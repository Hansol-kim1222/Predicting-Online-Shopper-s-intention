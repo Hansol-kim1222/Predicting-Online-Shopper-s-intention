{
 "cells": [
  {
   "cell_type": "code",
   "execution_count": 1,
   "metadata": {},
   "outputs": [],
   "source": [
    "import findspark\n",
    "findspark.init()"
   ]
  },
  {
   "cell_type": "code",
   "execution_count": 2,
   "metadata": {},
   "outputs": [],
   "source": [
    "from pyspark.sql import SparkSession\n",
    "spark=SparkSession.builder.appName('online').getOrCreate()"
   ]
  },
  {
   "cell_type": "code",
   "execution_count": 3,
   "metadata": {},
   "outputs": [
    {
     "data": {
      "text/plain": [
       "[Row(Administrative=0, Administrative_Duration=0.0, Informational=0, Informational_Duration=0.0, ProductRelated=1, ProductRelated_Duration=0.0, BounceRates=0.2, ExitRates=0.2, PageValues=0.0, SpecialDay=0.0, Month='Feb', OperatingSystems=1, Browser=1, Region=1, TrafficType=1, VisitorType='Returning_Visitor', Weekend=False, Revenue=False),\n",
       " Row(Administrative=0, Administrative_Duration=0.0, Informational=0, Informational_Duration=0.0, ProductRelated=2, ProductRelated_Duration=64.0, BounceRates=0.0, ExitRates=0.1, PageValues=0.0, SpecialDay=0.0, Month='Feb', OperatingSystems=2, Browser=2, Region=1, TrafficType=2, VisitorType='Returning_Visitor', Weekend=False, Revenue=False),\n",
       " Row(Administrative=0, Administrative_Duration=0.0, Informational=0, Informational_Duration=0.0, ProductRelated=1, ProductRelated_Duration=0.0, BounceRates=0.2, ExitRates=0.2, PageValues=0.0, SpecialDay=0.0, Month='Feb', OperatingSystems=4, Browser=1, Region=9, TrafficType=3, VisitorType='Returning_Visitor', Weekend=False, Revenue=False),\n",
       " Row(Administrative=0, Administrative_Duration=0.0, Informational=0, Informational_Duration=0.0, ProductRelated=2, ProductRelated_Duration=2.666666667, BounceRates=0.05, ExitRates=0.14, PageValues=0.0, SpecialDay=0.0, Month='Feb', OperatingSystems=3, Browser=2, Region=2, TrafficType=4, VisitorType='Returning_Visitor', Weekend=False, Revenue=False),\n",
       " Row(Administrative=0, Administrative_Duration=0.0, Informational=0, Informational_Duration=0.0, ProductRelated=10, ProductRelated_Duration=627.5, BounceRates=0.02, ExitRates=0.05, PageValues=0.0, SpecialDay=0.0, Month='Feb', OperatingSystems=3, Browser=3, Region=1, TrafficType=4, VisitorType='Returning_Visitor', Weekend=True, Revenue=False)]"
      ]
     },
     "execution_count": 3,
     "metadata": {},
     "output_type": "execute_result"
    }
   ],
   "source": [
    "df=spark.read.csv('online_shoppers_intention.csv',inferSchema=True,header=True)\n",
    "df.head(5)"
   ]
  },
  {
   "cell_type": "code",
   "execution_count": 4,
   "metadata": {
    "scrolled": true
   },
   "outputs": [
    {
     "data": {
      "text/plain": [
       "['Administrative',\n",
       " 'Administrative_Duration',\n",
       " 'Informational',\n",
       " 'Informational_Duration',\n",
       " 'ProductRelated',\n",
       " 'ProductRelated_Duration',\n",
       " 'BounceRates',\n",
       " 'ExitRates',\n",
       " 'PageValues',\n",
       " 'SpecialDay',\n",
       " 'Month',\n",
       " 'OperatingSystems',\n",
       " 'Browser',\n",
       " 'Region',\n",
       " 'TrafficType',\n",
       " 'VisitorType',\n",
       " 'Weekend',\n",
       " 'Revenue']"
      ]
     },
     "execution_count": 4,
     "metadata": {},
     "output_type": "execute_result"
    }
   ],
   "source": [
    "df.columns"
   ]
  },
  {
   "cell_type": "code",
   "execution_count": 5,
   "metadata": {},
   "outputs": [
    {
     "data": {
      "text/plain": [
       "DataFrame[Administrative: int, Administrative_Duration: double, Informational: int, Informational_Duration: double, ProductRelated: int, ProductRelated_Duration: double, BounceRates: double, ExitRates: double, PageValues: double, SpecialDay: double, Month: string, OperatingSystems: int, Browser: int, Region: int, TrafficType: int, VisitorType: string, Weekend: boolean, Revenue: boolean]"
      ]
     },
     "metadata": {},
     "output_type": "display_data"
    }
   ],
   "source": [
    "display(df)"
   ]
  },
  {
   "cell_type": "code",
   "execution_count": 6,
   "metadata": {},
   "outputs": [
    {
     "name": "stdout",
     "output_type": "stream",
     "text": [
      "root\n",
      " |-- Administrative: integer (nullable = true)\n",
      " |-- Administrative_Duration: double (nullable = true)\n",
      " |-- Informational: integer (nullable = true)\n",
      " |-- Informational_Duration: double (nullable = true)\n",
      " |-- ProductRelated: integer (nullable = true)\n",
      " |-- ProductRelated_Duration: double (nullable = true)\n",
      " |-- BounceRates: double (nullable = true)\n",
      " |-- ExitRates: double (nullable = true)\n",
      " |-- PageValues: double (nullable = true)\n",
      " |-- SpecialDay: double (nullable = true)\n",
      " |-- Month: string (nullable = true)\n",
      " |-- OperatingSystems: integer (nullable = true)\n",
      " |-- Browser: integer (nullable = true)\n",
      " |-- Region: integer (nullable = true)\n",
      " |-- TrafficType: integer (nullable = true)\n",
      " |-- VisitorType: string (nullable = true)\n",
      " |-- Weekend: boolean (nullable = true)\n",
      " |-- Revenue: boolean (nullable = true)\n",
      "\n"
     ]
    }
   ],
   "source": [
    "df.printSchema()"
   ]
  },
  {
   "cell_type": "code",
   "execution_count": 8,
   "metadata": {},
   "outputs": [],
   "source": [
    "from pyspark.ml.clustering import KMeans\n",
    "from pyspark.ml.linalg import Vectors\n",
    "from pyspark.ml.feature import VectorAssembler"
   ]
  },
  {
   "cell_type": "code",
   "execution_count": 66,
   "metadata": {},
   "outputs": [],
   "source": [
    "feat_cols=['Administrative','Administrative_Duration','Informational','Informational_Duration','ProductRelated','ProductRelated_Duration','BounceRates','ExitRates','PageValues','SpecialDay','OperatingSystems','Browser','Region','TrafficType']"
   ]
  },
  {
   "cell_type": "code",
   "execution_count": 10,
   "metadata": {},
   "outputs": [],
   "source": [
    "vec_assembler=VectorAssembler(inputCols=feat_cols,outputCol='features')\n",
    "final_data=vec_assembler.transform(df)"
   ]
  },
  {
   "cell_type": "markdown",
   "metadata": {},
   "source": [
    "KNN"
   ]
  },
  {
   "cell_type": "code",
   "execution_count": 11,
   "metadata": {},
   "outputs": [],
   "source": [
    "from pyspark.ml.feature import StandardScaler"
   ]
  },
  {
   "cell_type": "code",
   "execution_count": 12,
   "metadata": {},
   "outputs": [],
   "source": [
    "from pyspark.ml.evaluation import ClusteringEvaluator"
   ]
  },
  {
   "cell_type": "code",
   "execution_count": 13,
   "metadata": {},
   "outputs": [],
   "source": [
    "evaluator=ClusteringEvaluator"
   ]
  },
  {
   "cell_type": "code",
   "execution_count": 14,
   "metadata": {},
   "outputs": [],
   "source": [
    "kmeans=KMeans().setK(3).setSeed(1)\n",
    "model=kmeans.fit(final_data)"
   ]
  },
  {
   "cell_type": "code",
   "execution_count": 15,
   "metadata": {},
   "outputs": [],
   "source": [
    "predictions=model.transform(final_data)"
   ]
  },
  {
   "cell_type": "code",
   "execution_count": 17,
   "metadata": {},
   "outputs": [
    {
     "data": {
      "text/plain": [
       "Row(Administrative=0, Administrative_Duration=0.0, Informational=0, Informational_Duration=0.0, ProductRelated=1, ProductRelated_Duration=0.0, BounceRates=0.2, ExitRates=0.2, PageValues=0.0, SpecialDay=0.0, Month='Feb', OperatingSystems=1, Browser=1, Region=1, TrafficType=1, VisitorType='Returning_Visitor', Weekend=False, Revenue=False, features=SparseVector(15, {4: 1.0, 6: 0.2, 7: 0.2, 10: 1.0, 11: 1.0, 12: 1.0, 13: 1.0}))"
      ]
     },
     "execution_count": 17,
     "metadata": {},
     "output_type": "execute_result"
    }
   ],
   "source": [
    "final_data.head()"
   ]
  },
  {
   "cell_type": "code",
   "execution_count": 18,
   "metadata": {},
   "outputs": [],
   "source": [
    "centers=model.clusterCenters()"
   ]
  },
  {
   "cell_type": "code",
   "execution_count": 19,
   "metadata": {
    "scrolled": true
   },
   "outputs": [
    {
     "name": "stdout",
     "output_type": "stream",
     "text": [
      "[1.82098219e+00 6.20382794e+01 3.28018896e-01 1.99896921e+01\n",
      " 1.86472788e+01 5.78398522e+02 2.54290118e-02 4.76798214e-02\n",
      " 5.51449251e+00 6.40881803e-02 2.12114949e+00 2.36708985e+00\n",
      " 3.16937309e+00 4.14772168e+00 2.35114654e-01]\n",
      "[7.43902439e+00 2.95641709e+02 2.77073171e+00 2.69296003e+02\n",
      " 2.36985366e+02 1.09227713e+04 5.91820387e-03 1.97062157e-02\n",
      " 4.54367488e+00 3.12195122e-02 2.14634146e+00 2.31219512e+00\n",
      " 2.57073171e+00 3.63902439e+00 2.43902439e-01]\n",
      "[4.33706721e+00 1.55558025e+02 1.17515275e+00 8.48898799e+01\n",
      " 7.80000000e+01 3.36809846e+03 7.13966435e-03 2.16767600e-02\n",
      " 7.96860373e+00 5.08146640e-02 2.13645621e+00 2.31008147e+00\n",
      " 3.09368635e+00 3.71028513e+00 2.18431772e-01]\n"
     ]
    }
   ],
   "source": [
    "for center in centers:\n",
    "    print(center)"
   ]
  },
  {
   "cell_type": "markdown",
   "metadata": {},
   "source": [
    "Decisiong Tree"
   ]
  },
  {
   "cell_type": "code",
   "execution_count": 33,
   "metadata": {},
   "outputs": [],
   "source": [
    "from pyspark.ml import Pipeline\n",
    "from pyspark.ml.classification import DecisionTreeClassifier\n",
    "from pyspark.ml.feature import StringIndexer, VectorIndexer\n",
    "from pyspark.ml.evaluation import MulticlassClassificationEvaluator\n",
    "import pandas\n",
    "from pyspark.ml.feature import OneHotEncoder"
   ]
  },
  {
   "cell_type": "code",
   "execution_count": 62,
   "metadata": {},
   "outputs": [],
   "source": [
    "from pyspark.sql.functions import col\n",
    "from pyspark.sql.types import StringType,BooleanType,DateType,IntegerType"
   ]
  },
  {
   "cell_type": "code",
   "execution_count": 63,
   "metadata": {},
   "outputs": [
    {
     "data": {
      "text/plain": [
       "DataFrame[Administrative: int, Administrative_Duration: double, Informational: int, Informational_Duration: double, ProductRelated: int, ProductRelated_Duration: double, BounceRates: double, ExitRates: double, PageValues: double, SpecialDay: double, Month: string, OperatingSystems: int, Browser: int, Region: int, TrafficType: int, VisitorType: string, Weekend: boolean, Revenue: int]"
      ]
     },
     "execution_count": 63,
     "metadata": {},
     "output_type": "execute_result"
    }
   ],
   "source": [
    "df.withColumn(\"Revenue\",df.Revenue.cast(IntegerType()))"
   ]
  },
  {
   "cell_type": "code",
   "execution_count": 103,
   "metadata": {},
   "outputs": [],
   "source": [
    "label=StringIndexer(inputCol='Revenue',outputCol='indexLabel').fit(df)"
   ]
  },
  {
   "cell_type": "code",
   "execution_count": 104,
   "metadata": {},
   "outputs": [],
   "source": [
    "feature=VectorAssembler(inputCols=feat_cols,outputCol='feature')"
   ]
  },
  {
   "cell_type": "code",
   "execution_count": 105,
   "metadata": {},
   "outputs": [],
   "source": [
    "(trainData,testData)=df.randomSplit([0.7,0.3])"
   ]
  },
  {
   "cell_type": "code",
   "execution_count": 106,
   "metadata": {},
   "outputs": [],
   "source": [
    "dt=DecisionTreeClassifier(labelCol='indexLabel',featuresCol='feature')"
   ]
  },
  {
   "cell_type": "code",
   "execution_count": 107,
   "metadata": {},
   "outputs": [],
   "source": [
    "pipeline=Pipeline(stages=[label,feature,dt])"
   ]
  },
  {
   "cell_type": "code",
   "execution_count": 108,
   "metadata": {},
   "outputs": [],
   "source": [
    "model=pipeline.fit(trainData)"
   ]
  },
  {
   "cell_type": "code",
   "execution_count": 109,
   "metadata": {},
   "outputs": [],
   "source": [
    "predictions=model.transform(testData)"
   ]
  },
  {
   "cell_type": "code",
   "execution_count": 110,
   "metadata": {},
   "outputs": [
    {
     "name": "stdout",
     "output_type": "stream",
     "text": [
      "+----------+----------+--------------------+\n",
      "|prediction|indexLabel|             feature|\n",
      "+----------+----------+--------------------+\n",
      "|       0.0|       0.0|(14,[6,7,10,11,12...|\n",
      "|       0.0|       0.0|(14,[6,7,10,11,12...|\n",
      "|       0.0|       0.0|(14,[4,7,10,11,12...|\n",
      "|       0.0|       0.0|(14,[4,7,10,11,12...|\n",
      "|       0.0|       0.0|(14,[4,7,10,11,12...|\n",
      "|       0.0|       0.0|(14,[4,6,7,10,11,...|\n",
      "|       0.0|       0.0|(14,[4,6,7,10,11,...|\n",
      "|       0.0|       0.0|(14,[4,6,7,10,11,...|\n",
      "|       0.0|       0.0|(14,[4,6,7,10,11,...|\n",
      "|       0.0|       0.0|(14,[4,6,7,10,11,...|\n",
      "|       0.0|       0.0|(14,[4,6,7,10,11,...|\n",
      "|       0.0|       0.0|(14,[4,6,7,10,11,...|\n",
      "|       0.0|       0.0|(14,[4,6,7,10,11,...|\n",
      "|       0.0|       0.0|(14,[4,6,7,10,11,...|\n",
      "|       0.0|       0.0|(14,[4,6,7,10,11,...|\n",
      "|       0.0|       0.0|(14,[4,6,7,10,11,...|\n",
      "|       0.0|       0.0|(14,[4,6,7,10,11,...|\n",
      "|       0.0|       0.0|(14,[4,6,7,10,11,...|\n",
      "|       0.0|       0.0|(14,[4,6,7,10,11,...|\n",
      "|       0.0|       0.0|(14,[4,6,7,10,11,...|\n",
      "+----------+----------+--------------------+\n",
      "only showing top 20 rows\n",
      "\n"
     ]
    }
   ],
   "source": [
    "predictions.select('prediction','indexLabel','feature').show()"
   ]
  },
  {
   "cell_type": "code",
   "execution_count": null,
   "metadata": {},
   "outputs": [],
   "source": []
  }
 ],
 "metadata": {
  "kernelspec": {
   "display_name": "Python 3",
   "language": "python",
   "name": "python3"
  },
  "language_info": {
   "codemirror_mode": {
    "name": "ipython",
    "version": 3
   },
   "file_extension": ".py",
   "mimetype": "text/x-python",
   "name": "python",
   "nbconvert_exporter": "python",
   "pygments_lexer": "ipython3",
   "version": "3.8.3"
  }
 },
 "nbformat": 4,
 "nbformat_minor": 4
}
